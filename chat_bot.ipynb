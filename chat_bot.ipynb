{
  "nbformat": 4,
  "nbformat_minor": 0,
  "metadata": {
    "colab": {
      "provenance": [],
      "authorship_tag": "ABX9TyN1Pblaf330t1veuOPCrdo3",
      "include_colab_link": true
    },
    "kernelspec": {
      "name": "python3",
      "display_name": "Python 3"
    },
    "language_info": {
      "name": "python"
    }
  },
  "cells": [
    {
      "cell_type": "markdown",
      "metadata": {
        "id": "view-in-github",
        "colab_type": "text"
      },
      "source": [
        "<a href=\"https://colab.research.google.com/github/Vatsav443/Creative-Chatbots/blob/main/chat_bot.ipynb\" target=\"_parent\"><img src=\"https://colab.research.google.com/assets/colab-badge.svg\" alt=\"Open In Colab\"/></a>"
      ]
    },
    {
      "cell_type": "markdown",
      "source": [
        "Step 1 : Install Google Gemini Library"
      ],
      "metadata": {
        "id": "VjZGDiJGra2z"
      }
    },
    {
      "cell_type": "code",
      "source": [
        "!pip install -q -U google-genai\n",
        "!pip install transformers"
      ],
      "metadata": {
        "colab": {
          "base_uri": "https://localhost:8080/"
        },
        "id": "K8CZYMTcqmvG",
        "outputId": "d050bd3d-69ce-4957-9652-07ad34582fbc"
      },
      "execution_count": null,
      "outputs": [
        {
          "output_type": "stream",
          "name": "stdout",
          "text": [
            "Requirement already satisfied: transformers in /usr/local/lib/python3.12/dist-packages (4.56.1)\n",
            "Requirement already satisfied: filelock in /usr/local/lib/python3.12/dist-packages (from transformers) (3.19.1)\n",
            "Requirement already satisfied: huggingface-hub<1.0,>=0.34.0 in /usr/local/lib/python3.12/dist-packages (from transformers) (0.34.4)\n",
            "Requirement already satisfied: numpy>=1.17 in /usr/local/lib/python3.12/dist-packages (from transformers) (2.0.2)\n",
            "Requirement already satisfied: packaging>=20.0 in /usr/local/lib/python3.12/dist-packages (from transformers) (25.0)\n",
            "Requirement already satisfied: pyyaml>=5.1 in /usr/local/lib/python3.12/dist-packages (from transformers) (6.0.2)\n",
            "Requirement already satisfied: regex!=2019.12.17 in /usr/local/lib/python3.12/dist-packages (from transformers) (2024.11.6)\n",
            "Requirement already satisfied: requests in /usr/local/lib/python3.12/dist-packages (from transformers) (2.32.4)\n",
            "Requirement already satisfied: tokenizers<=0.23.0,>=0.22.0 in /usr/local/lib/python3.12/dist-packages (from transformers) (0.22.0)\n",
            "Requirement already satisfied: safetensors>=0.4.3 in /usr/local/lib/python3.12/dist-packages (from transformers) (0.6.2)\n",
            "Requirement already satisfied: tqdm>=4.27 in /usr/local/lib/python3.12/dist-packages (from transformers) (4.67.1)\n",
            "Requirement already satisfied: fsspec>=2023.5.0 in /usr/local/lib/python3.12/dist-packages (from huggingface-hub<1.0,>=0.34.0->transformers) (2025.3.0)\n",
            "Requirement already satisfied: typing-extensions>=3.7.4.3 in /usr/local/lib/python3.12/dist-packages (from huggingface-hub<1.0,>=0.34.0->transformers) (4.15.0)\n",
            "Requirement already satisfied: hf-xet<2.0.0,>=1.1.3 in /usr/local/lib/python3.12/dist-packages (from huggingface-hub<1.0,>=0.34.0->transformers) (1.1.9)\n",
            "Requirement already satisfied: charset_normalizer<4,>=2 in /usr/local/lib/python3.12/dist-packages (from requests->transformers) (3.4.3)\n",
            "Requirement already satisfied: idna<4,>=2.5 in /usr/local/lib/python3.12/dist-packages (from requests->transformers) (3.10)\n",
            "Requirement already satisfied: urllib3<3,>=1.21.1 in /usr/local/lib/python3.12/dist-packages (from requests->transformers) (2.5.0)\n",
            "Requirement already satisfied: certifi>=2017.4.17 in /usr/local/lib/python3.12/dist-packages (from requests->transformers) (2025.8.3)\n"
          ]
        }
      ]
    },
    {
      "cell_type": "markdown",
      "source": [
        "Step 2: Importing necessary libraries"
      ],
      "metadata": {
        "id": "JuRX01S_rkIv"
      }
    },
    {
      "cell_type": "code",
      "source": [
        "import time\n",
        "from google import genai\n",
        "from google.colab import userdata\n",
        "from transformers import pipeline"
      ],
      "metadata": {
        "id": "Vzvd76EjrVeV"
      },
      "execution_count": null,
      "outputs": []
    },
    {
      "cell_type": "markdown",
      "source": [
        "Step 3: Retreive gemini key"
      ],
      "metadata": {
        "id": "QX2Al8XysX6j"
      }
    },
    {
      "cell_type": "code",
      "source": [
        "key = userdata.get('Api_Key')"
      ],
      "metadata": {
        "id": "JWiVlREiscZq"
      },
      "execution_count": null,
      "outputs": []
    },
    {
      "cell_type": "markdown",
      "source": [
        "Building Gemini ChatBot"
      ],
      "metadata": {
        "id": "E51hha9jtDPN"
      }
    },
    {
      "cell_type": "markdown",
      "source": [
        "Step 1: Adding text streaming function"
      ],
      "metadata": {
        "id": "SPWgjd90tKQN"
      }
    },
    {
      "cell_type": "code",
      "source": [
        "def stream(text):\n",
        "  print('Bot=', end =' ')\n",
        "  words = text.split()\n",
        "  for word in words:\n",
        "    print(word, end=' ', flush=True)\n",
        "    time.sleep(0.1)\n",
        "  print()\n"
      ],
      "metadata": {
        "id": "4gp445MftIPu"
      },
      "execution_count": null,
      "outputs": []
    },
    {
      "cell_type": "code",
      "source": [
        "text ='I am building a chatbot'\n",
        "stream(text)"
      ],
      "metadata": {
        "colab": {
          "base_uri": "https://localhost:8080/"
        },
        "id": "RU0th-dZuUX3",
        "outputId": "83c1ab5f-755f-4bc3-d7f3-89a4882dba04"
      },
      "execution_count": null,
      "outputs": [
        {
          "output_type": "stream",
          "name": "stdout",
          "text": [
            "Bot= I am building a chatbot \n"
          ]
        }
      ]
    },
    {
      "cell_type": "markdown",
      "source": [
        "Step 2 : Connecting to gemini"
      ],
      "metadata": {
        "id": "TfmvygjNxlGA"
      }
    },
    {
      "cell_type": "code",
      "source": [
        "try:\n",
        "  client = genai.Client(api_key=key)\n",
        "except KeyError:\n",
        "  print(f'Error with gemini key.\\n error message:\\n{KeyError}')\n",
        "chat = client.chats.create(model=\"gemini-2.0-flash\")\n",
        "translator = pipeline(\"translation\", model=\"Helsinki-NLP/opus-mt-en-fr\")\n"
      ],
      "metadata": {
        "id": "gqmh3hMw1EGb",
        "colab": {
          "base_uri": "https://localhost:8080/"
        },
        "outputId": "6a6162c7-6e48-4247-ef96-85609f4d0572"
      },
      "execution_count": null,
      "outputs": [
        {
          "output_type": "stream",
          "name": "stderr",
          "text": [
            "/usr/local/lib/python3.12/dist-packages/transformers/models/marian/tokenization_marian.py:175: UserWarning: Recommended: pip install sacremoses.\n",
            "  warnings.warn(\"Recommended: pip install sacremoses.\")\n",
            "Device set to use cpu\n"
          ]
        }
      ]
    },
    {
      "cell_type": "markdown",
      "source": [
        "Creating a function to talk to Gemini"
      ],
      "metadata": {
        "id": "q7R9wE3S3Stb"
      }
    },
    {
      "cell_type": "code",
      "source": [
        "\n",
        "def ask_gemini(user_input):\n",
        "  try:\n",
        "    prompt = f\"You are an expert aerospace  engineer working in the industry. You want to recruit some engineers from IIT kanpur for aerospace roles who also have some knowledge about the programming, machine learning or other relevant skills although not neccessary. Always and only scrutinize and crticize the projects  and technical skills provided in the limited space of resume given as the input and rate the importance of the skills  and projects from the stand point of a recruiter give accurate suggesstions in the framing if required by sticking only to the input.here is your input:{user_input}\"\n",
        "    response = chat.send_message(prompt)\n",
        "    return response.text\n",
        "  except Exception as e:\n",
        "    return f\"something went wrong: {e}\"\n"
      ],
      "metadata": {
        "id": "QJ6yPbf33aB6"
      },
      "execution_count": null,
      "outputs": []
    },
    {
      "cell_type": "code",
      "source": [
        "'''\n",
        "def translat(user_input):\n",
        "    response = translator(user_input)\n",
        "    return response[0]['translation_text']\n",
        "'''"
      ],
      "metadata": {
        "id": "1TA-EjxXghAL",
        "colab": {
          "base_uri": "https://localhost:8080/",
          "height": 36
        },
        "outputId": "5df32c38-aa93-4c6c-81ef-8165dd5b132d"
      },
      "execution_count": null,
      "outputs": [
        {
          "output_type": "execute_result",
          "data": {
            "text/plain": [
              "\"\\ndef translat(user_input):\\n    response = translator(user_input)\\n    return response[0]['translation_text']\\n\""
            ],
            "application/vnd.google.colaboratory.intrinsic+json": {
              "type": "string"
            }
          },
          "metadata": {},
          "execution_count": 30
        }
      ]
    },
    {
      "cell_type": "markdown",
      "source": [
        "Building the chatbot loop"
      ],
      "metadata": {
        "id": "4GRFVDG94KAL"
      }
    },
    {
      "cell_type": "code",
      "source": [
        "print(\"Hey! Welcome to your french translator! enter 'bye' to exit.\")\n",
        "while True:\n",
        "  user_input = input(\"You:\")\n",
        "  if user_input.lower() == 'bye':\n",
        "    print(\"Bot : Botout until next time\")\n",
        "    break\n",
        "  response = ask_gemini(user_input)\n",
        "  stream(response)\n",
        "  #response = translat(user_input)\n",
        "  #stream(response)\n",
        "\n"
      ],
      "metadata": {
        "colab": {
          "base_uri": "https://localhost:8080/"
        },
        "id": "mm_3fnyl4OFx",
        "outputId": "905e3501-f269-4891-9707-858a8d1f0993"
      },
      "execution_count": null,
      "outputs": [
        {
          "metadata": {
            "tags": null
          },
          "name": "stdout",
          "output_type": "stream",
          "text": [
            "Hey! Welcome to your french translator! enter 'bye' to exit.\n",
            "Bot= Alright, let's break down this \"Creative Personal Chatbots\" self-project description. **Overall Impression:** This project demonstrates an interest in and basic competency with Large Language Models (LLMs), Natural Language Processing (NLP), and chatbot development. Given the rising importance of AI in aerospace (e.g., for design optimization, anomaly detection, human-machine interfaces), this is a relevant and marketable skill. However, the descriptions need to be more specific about *what* was achieved and *how* it might relate to aerospace applications. **Scrutiny and Critique:** * **Relevance to Aerospace:** The biggest question is, \"How does this apply to aerospace?\" While directly developing poetry-generating chatbots isn't relevant, the underlying skills *are*. The description needs to *hint* at potential applications within aerospace. * **Google Colab:** Mentioning Google Colab is fine, but it's a very common environment. It's not a differentiator. Focus on *what* was done *within* Colab. * **LLM APIs and Prompt Engineering:** These are good keywords. However, \"prompt engineering\" is a broad term. What *specific* prompt engineering techniques were used? How did they improve the chatbot's performance? * **\"Poetic, context-aware responses\":** This is fluffy language. We need more concrete details about the chatbot's capabilities. What defines \"poetic\"? What kind of context was considered? How was context maintained across multiple turns of the conversation? * **Hugging Face Model:** Good to see the use of a specific, pre-trained model. * **\"Seamless user interaction\":** Again, too vague. What specific design choices contributed to a \"seamless\" experience? Did you implement any specific error handling or fallback mechanisms? * **Missing Metrics:** The descriptions lack quantifiable results. How was the performance of the chatbots evaluated? What metrics were used to measure the quality of the poetic responses or the accuracy of the translations? **Importance Rating (from an Aerospace Recruiter perspective):** * **Potential: 7/10 (if framed correctly to highlight transferable skills).** As it stands, it's around a 5.5/10. The underlying technology is important, but the description doesn't make a strong case for its relevance to aerospace. **Suggestions for Improvement in Framing:** Let's reframe the descriptions to emphasize transferable skills and potential aerospace applications. **Option 1 (Focus on Data Processing and Model Integration - More General):** > \"Creative Personal Chatbots - Self Project (Aug’25–Sep’25) – Developed and evaluated two natural language processing (NLP) chatbots using LLM APIs and Hugging Face models. The first chatbot generated context-aware responses using prompt engineering techniques, demonstrating proficiency in data preprocessing, model fine-tuning, and iterative evaluation. The second chatbot, an English-to-French translation system, showcased experience in integrating pre-trained models, building robust Python pipelines, and handling real-time data streams. [Optional: Briefly mention a *potential* aerospace application, e.g., \"These skills are transferable to developing intelligent assistants for pilots or engineers.\"]\" **Option 2 (Focus on Natural Language Understanding - More Technical):** > \"Creative Personal Chatbots - Self Project (Aug’25–Sep’25) – Designed and implemented two chatbots to explore advanced natural language understanding (NLU) techniques. The 'Poetic Chatbot' utilized LLM APIs and prompt engineering to generate creative text, focusing on sentiment analysis and semantic understanding to ensure contextually relevant responses. The 'Translation Chatbot' leveraged Hugging Face's Helsinki-NLP model to achieve real-time English-to-French translation, with a focus on handling ambiguous or technical language. These projects demonstrate a strong understanding of NLU principles applicable to tasks such as automated report generation or intelligent document summarization in aerospace engineering.\" **Option 3 (Focus on Real-time Translation - specific)** > \"Creative Personal Chatbots - Self Project (Aug’25–Sep’25) – Developed a real-time English-to-French translation chatbot using Hugging Face's Helsinki-NLP model to address the challenges of cross-lingual communication. Created a Python pipeline with conversational loops and dynamic typing for seamless user interaction. Achieved [Quantify, e.g., X% improvement in translation accuracy compared to baseline] by implementing custom post-processing rules to handle technical terms and industry jargon relevant to aerospace engineering. This project demonstrates proficiency in NLP, model integration, and real-time data processing, skills valuable in developing international collaboration tools or automated translation systems for technical documentation.\" **Key Improvements Incorporated in the Suggestions:** * **Transferable Skills:** Frame the project to highlight skills that are valuable in *any* engineering context, such as data processing, model integration, pipeline development, and real-time data handling. * **Aerospace Connection (Subtle):** Suggest potential aerospace applications without being forced. This shows you've thought about the relevance. * **Technical Language:** Use more specific technical terms (e.g., sentiment analysis, semantic understanding, real-time data streams). * **Quantification (if possible):** Quantify improvements or performance metrics whenever possible. **Important Considerations:** * **Truthfulness:** The candidate *must* be able to back up any claims made in the description during an interview. * **Targeted Resume:** Tailor the \"potential aerospace applications\" to the specific role they are applying for. A general description is fine, but a targeted one is better. The key is to transform this project from a \"fun side project\" into a demonstration of relevant and transferable skills that can be applied to solve real-world aerospace engineering challenges. \n",
            "Bot= Okay, this project is *much* more directly relevant to aerospace! Let's analyze it. **Overall Impression:** This project clearly demonstrates an understanding of materials science and engineering principles crucial to aerospace applications, particularly in thermal protection systems (TPS). The mention of Kevlar and polysiloxane is relevant, as these materials are used in aerospace. The project highlights a potential solution to a key challenge: high-temperature performance. This is a *good* project to feature on a resume targeting aerospace roles. **Scrutiny and Critique:** * **Kevlar and Polysiloxane Ratio/Composition**: The description says Kevlar was used with polysiloxane to create composites, but it doesn't specify the ratio in which they are used and how their composition helps. * **Needs Quantification:** The phrase \"significantly higher than conventional epoxy-based composites limited to 100 °C\" is not specific enough. How much higher? What was the actual maximum operating temperature achieved? Was this measured experimentally, or predicted through simulations? Also, what kind of conventional epoxy-based composite are you comparing this to? * **Processing/Manufacturing Details:** What manufacturing techniques were used to create the composites? (e.g., lay-up, resin transfer molding, etc.). This is important because the manufacturing process influences the properties of the final material. * **Material Characterization:** Besides thermal stability, what other properties were characterized? (e.g., tensile strength, compressive strength, flexural strength, density, thermal conductivity). These are all important for aerospace applications. * **Connection to Aerospace Applications (Specificity):** While the description mentions \"thermal shielding in aerospace and space applications,\" it could be more specific. What *specific* aerospace applications were considered? (e.g., engine nacelles, hypersonic vehicle leading edges, spacecraft heat shields). * **Test Details**: What kind of tests were performed. **Importance Rating (from an Aerospace Recruiter perspective):** * **Potential: 8.5/10 (with improvements).** As is, it's a strong 7/10. The core concepts are excellent. Addressing the critiques below will significantly improve its impact. **Suggestions for Improvement in Framing:** Here are some options, focusing on different aspects of the project: **Option 1 (Focus on Material Properties and Performance):** > \"Development of Thermal Barrier Shielding with Kevlar Fibre and Polysiloxane Precursor (Jan’24-May’24) – Developed a lightweight, high-performance thermal barrier composite using Kevlar fibre and polysiloxane [mention the ratio] to address the limitations of conventional epoxy resins in high-temperature aerospace applications. The composite demonstrated thermal stability up to [Specific Temperature, e.g., 300°C], a [Quantify improvement, e.g., 200%] increase compared to epoxy-based composites. Further characterization revealed a tensile strength of [Tensile Strength Value] and a density of [Density Value], making it suitable for [Specific Aerospace Application, e.g., engine nacelles].\" **Option 2 (Focus on Manufacturing and Processing):** > \"Development of Thermal Barrier Shielding with Kevlar Fibre and Polysiloxane Precursor (Jan’24-May’24) – Fabricated thermal barrier composites using a [Specific Manufacturing Technique, e.g., Vacuum-Assisted Resin Transfer Molding (VARTM)] process, combining Kevlar fibre with a polysiloxane precursor to create a lightweight material with enhanced thermal stability. Optimized the manufacturing parameters to achieve a [Specific Result, e.g., uniform fibre distribution and minimal void content]. The resulting composite exhibited a service temperature of [Specific Temperature] and is being evaluated for use in [Specific Aerospace Application, e.g., spacecraft heat shields].\" **Option 3 (Focus on Addressing a Specific Aerospace Challenge):** > \"Development of Thermal Barrier Shielding with Kevlar Fibre and Polysiloxane Precursor (Jan’24-May’24) – Addressed the limitations of epoxy resins in high-temperature aerospace environments by developing a thermal barrier composite using Kevlar fibre and polysiloxane. The composite was designed to provide thermal protection for [Specific Aerospace Component, e.g., hypersonic vehicle leading edges] and demonstrated superior resistance to thermal degradation compared to conventional materials. Demonstrated the material can withstand temperatures of [value] for [period] while retaining its strength and stiffness. Its thermal conductivity was measured at [value] W/mK\" **Key Improvements Incorporated in the Suggestions:** * **Quantification:** Replaces vague statements with specific values (temperature, strength, density). * **Manufacturing Details:** Includes details about the manufacturing process. * **Specific Applications:** Mentions specific aerospace applications to demonstrate relevance. * **Material Properties:** Highlights key material properties beyond just thermal stability. **Important Considerations:** * **Honesty and Accuracy:** The candidate *must* be able to substantiate all claims made in the description. * **Testing Details** The types of tests performed and the parameters for each of these tests performed This project has a *lot* of potential to impress. By adding more specific details and quantifying the results, the candidate can significantly increase their chances of landing an interview. \n",
            "Bot= Okay, based on the update that VARTM followed by thermal hardening was used, let's refine the feedback. **Overall Impression:** The addition of \"VARTM followed by thermal hardening\" is a *good* improvement. It provides some insight into the manufacturing process used. However, the core issues of lacking quantification and specificity remain. **Scrutiny and Critique:** * **VARTM Improvement:** Specifying \"VARTM followed by thermal hardening\" is a significant step up. It shows the candidate understands at least the basic manufacturing process. * **Quantification Still Needed:** The phrase \"significantly higher than conventional epoxy-based composites limited to 100 °C\" is still too vague. Needs specific temperature values. Also, need specifics on the epoxy composite used for comparison. * **Details on VARTM Process:** What were the key parameters of the VARTM process? (e.g., vacuum pressure, resin infusion rate, cure temperature, cure time). Were these parameters optimized? * **Details on Thermal Hardening:** What was the temperature and duration of the thermal hardening process? * **Kevlar/Polysiloxane Ratio Still Missing:** This is a critical parameter. * **Material Characterization Still Lacking:** We still need information on material properties beyond thermal stability. * **Specific Applications Still Generic:** \"Thermal shielding in aerospace and space applications\" is too broad. **Importance Rating (from an Aerospace Recruiter perspective):** * **Potential: 8.5/10 (with improvements).** Adding VARTM moves it up slightly. Currently, it's a solid 7.5/10. **Suggestions for Improvement in Framing:** Let's incorporate the VARTM information and push for more quantification. **Option 1 (Focus on Manufacturing Process and Resulting Properties):** > \"Development of Thermal Barrier Shielding with Kevlar Fibre and Polysiloxane Precursor (Jan’24-May’24) – Fabricated a lightweight, high-performance thermal barrier composite using Vacuum-Assisted Resin Transfer Molding (VARTM) followed by thermal hardening at [Temperature] for [Duration]. A [Kevlar Fibre type/weave] and polysiloxane were combined [at a X:Y ratio]. This manufacturing process resulted in a composite exhibiting a thermal stability up to [Specific Temperature, e.g., 300°C]. Further testing revealed a tensile strength of [Value] and a flexural modulus of [Value], making it suitable for aerospace application.\" **Option 2 (Focus on Optimization of Manufacturing Parameters):** > \"Development of Thermal Barrier Shielding with Kevlar Fibre and Polysiloxane Precursor (Jan’24-May’24) – Investigated the influence of VARTM processing parameters on the thermal and mechanical properties of Kevlar fibre-reinforced polysiloxane composites. Key parameters, including vacuum pressure and resin infusion rate, were optimized to achieve [Specific Result, e.g., minimal void content and uniform fibre distribution]. The resulting composite demonstrated thermal stability up to [Specific Temperature] and is being evaluated for use in [Specific Application].\" **Option 3 (Focus on Comparison to Epoxy Composites):** > \"Development of Thermal Barrier Shielding with Kevlar Fibre and Polysiloxane Precursor (Jan’24-May’24) – Developed a thermal barrier composite using Kevlar fibre and polysiloxane, processed via VARTM followed by thermal hardening, to address the limitations of conventional epoxy-based composites in high-temperature environments. The resulting composite exhibited a service temperature of [Specific Temperature], a [quantify by what percentage] compared to the [Name of Epoxy Composite] which is limited to [Temp]. At the same time it retained strength and stiffness. Its thermal conductivity was measured at [value] W/mK **Key Improvements Incorporated in the Suggestions:** * **Detailed Manufacturing Process:** Includes specific details about the VARTM and thermal hardening processes (where possible). * **Quantification:** Reinforces the need for specific values for temperature, strength, and other relevant properties. * **Material Composition Emphasis:** Again, stresses the importance of specifying the Kevlar/polysiloxane ratio. **Next Steps:** The candidate needs to: 1. **Find Specific Values:** If they don't have specific numbers for temperature, strength, etc., they need to go back to their lab notes or reports and find them. 2. **Clearly Define the Material Composition.** Ratio is important for calculating theoretical properties. The project is getting closer to being truly impressive. Just need to nail down the details. \n"
          ]
        }
      ]
    }
  ]
}